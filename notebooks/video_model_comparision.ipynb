{
 "cells": [
  {
   "cell_type": "code",
   "execution_count": 1,
   "id": "eae769c0",
   "metadata": {},
   "outputs": [
    {
     "name": "stdout",
     "output_type": "stream",
     "text": [
      "[INFO] Using device: cuda\n"
     ]
    }
   ],
   "source": [
    "import os, sys, random, json\n",
    "import numpy as np\n",
    "import torch\n",
    "from torch.utils.data import DataLoader\n",
    "from torchvision import transforms\n",
    "import matplotlib.pyplot as plt\n",
    "import seaborn as sns\n",
    "\n",
    "# Path setup\n",
    "root_path = os.path.abspath(os.path.join(os.getcwd(), \"..\"))\n",
    "if root_path not in sys.path:\n",
    "    sys.path.append(root_path)\n",
    "\n",
    "from src.video_dataset_loader import WLASLVideoDataset\n",
    "from src.video_model_definition import get_model\n",
    "\n",
    "data_root = os.path.join(root_path, \"data\", \"video\")\n",
    "metadata_file = os.path.join(data_root, \"WLASL_v0.3_updated.json\")\n",
    "\n",
    "# Reproducibility\n",
    "def set_seed(seed=42):\n",
    "    random.seed(seed)\n",
    "    np.random.seed(seed)\n",
    "    torch.manual_seed(seed)\n",
    "    torch.cuda.manual_seed_all(seed)\n",
    "    torch.backends.cudnn.deterministic = True\n",
    "    torch.backends.cudnn.benchmark = False\n",
    "\n",
    "set_seed(42)\n",
    "device = \"cuda\" if torch.cuda.is_available() else \"cpu\"\n",
    "print(f\"[INFO] Using device: {device}\")\n"
   ]
  },
  {
   "cell_type": "code",
   "execution_count": 2,
   "id": "ce86780d",
   "metadata": {},
   "outputs": [
    {
     "name": "stdout",
     "output_type": "stream",
     "text": [
      "[INFO] Using flat WLASL-style JSON with 2000 gloss entries.\n",
      "[INFO] Using base directory: /home/genesis/sem1_project/sign-to-speech-with-temporal-correction/data/video/val\n",
      "[INFO] Loaded 2395 valid videos (skipped 1663). Classes: 1446\n",
      "[INFO] Final dataset size: 2395 videos (skipped 1663)\n"
     ]
    }
   ],
   "source": [
    "frame_tfms = transforms.Compose([transforms.Resize((112, 112))])\n",
    "data_root = os.path.join(root_path, \"data\", \"video\")\n",
    "metadata_file = os.path.join(data_root, \"WLASL_v0.3_updated.json\")\n",
    "\n",
    "val_dataset = WLASLVideoDataset(\n",
    "    root_dir=data_root,\n",
    "    metadata_path=metadata_file,\n",
    "    split=\"val\",\n",
    "    frame_tfms=frame_tfms,\n",
    "    frames_per_clip=16\n",
    ")\n",
    "val_loader = DataLoader(val_dataset, batch_size=4, shuffle=False, num_workers=4)\n",
    "print(f\"[INFO] Final dataset size: {len(val_dataset)} videos (skipped {val_dataset.missing})\")\n",
    "\n"
   ]
  },
  {
   "cell_type": "code",
   "execution_count": 3,
   "id": "ffeb02a4",
   "metadata": {},
   "outputs": [
    {
     "name": "stdout",
     "output_type": "stream",
     "text": [
      "[INFO] Models ready: mvit | vit\n"
     ]
    }
   ],
   "source": [
    "n_classes = len(val_dataset.classes)\n",
    "mvit_model, mvit_name = get_model(\"mvit\", n_classes)\n",
    "vit_model, vit_name = get_model(\"vit\", n_classes)\n",
    "\n",
    "mvit_model, vit_model = mvit_model.to(device), vit_model.to(device)\n",
    "mvit_model.eval(); vit_model.eval()\n",
    "\n",
    "print(f\"[INFO] Models ready: {mvit_name} | {vit_name}\")\n"
   ]
  },
  {
   "cell_type": "code",
   "execution_count": 4,
   "id": "c6245634",
   "metadata": {},
   "outputs": [],
   "source": [
    "import torch.nn.functional as F\n",
    "\n",
    "def evaluate_untrained(model, dataloader, max_batches=50):\n",
    "    model.eval()\n",
    "    correct, total = 0, 0\n",
    "    preds, labels = [], []\n",
    "\n",
    "    with torch.no_grad():\n",
    "        for i, (clips, targets) in enumerate(dataloader):\n",
    "            if i >= max_batches:\n",
    "                break\n",
    "            clips, targets = clips.to(device), targets.to(device)\n",
    "            outputs = model(clips)\n",
    "            pred = torch.argmax(outputs, dim=1)\n",
    "            preds.extend(pred.cpu().numpy())\n",
    "            labels.extend(targets.cpu().numpy())\n",
    "            correct += (pred == targets).sum().item()\n",
    "            total += targets.size(0)\n",
    "\n",
    "    acc = 100 * correct / total if total > 0 else 0\n",
    "    return acc, preds, labels\n"
   ]
  },
  {
   "cell_type": "code",
   "execution_count": 17,
   "id": "7240cd1a",
   "metadata": {},
   "outputs": [
    {
     "name": "stdout",
     "output_type": "stream",
     "text": [
      "[DEBUG] Input to model: (4, 16, 3, 112, 112)\n",
      "[ERROR] Model forward failed: Given groups=1, weight of size [96, 3, 3, 7, 7], expected input[4, 16, 3, 112, 112] to have 3 channels, but got 16 channels instead\n",
      "[DEBUG] Input to model: (4, 16, 3, 112, 112)\n",
      "[ERROR] Model forward failed: Given groups=1, weight of size [96, 3, 3, 7, 7], expected input[4, 16, 3, 112, 112] to have 3 channels, but got 16 channels instead\n",
      "[INFO] Encoded 2 labels | Samples processed: 0\n",
      "[DEBUG] Input to model: (4, 16, 3, 112, 112)\n",
      "[ERROR] Model forward failed: too many values to unpack (expected 4)\n",
      "[DEBUG] Input to model: (4, 16, 3, 112, 112)\n",
      "[ERROR] Model forward failed: too many values to unpack (expected 4)\n",
      "[INFO] Encoded 2 labels | Samples processed: 0\n",
      "\n",
      "[RESULTS]\n",
      " - MViT Accuracy (Untrained): 0.00%\n",
      " - ViT  Accuracy (Untrained): 0.00%\n"
     ]
    }
   ],
   "source": [
    "import torch\n",
    "import torch.nn.functional as F\n",
    "from torchvision.io import read_video\n",
    "\n",
    "def safe_preprocess(video, model, device):\n",
    "    \"\"\"\n",
    "    Normalizes video tensor to the model's expected shape (B, 3, T, H, W).\n",
    "    Dynamically extracts T,H,W from model.pos_encoding when available.\n",
    "    \"\"\"\n",
    "    # Extract model's expected temporal and spatial sizes\n",
    "    if hasattr(model, \"pos_encoding\"):\n",
    "        t = getattr(model.pos_encoding, \"temporal_size\", 8)\n",
    "        h, w = getattr(model.pos_encoding, \"spatial_size\", (56, 56))\n",
    "        # MViT expects 224x224 inputs when spatial tokens are 56x56\n",
    "        h, w = h * 4, w * 4\n",
    "    else:\n",
    "        t, h, w = 8, 224, 224\n",
    "\n",
    "    # Convert to (1, 3, T, H, W)\n",
    "    if video.ndim == 4:  # (T, C, H, W)\n",
    "        video = video[:t] if video.shape[0] > t else F.pad(video, (0, 0, 0, 0, 0, 0, 0, t - video.shape[0]))\n",
    "        video = video.unsqueeze(0).permute(0, 2, 1, 3, 4)\n",
    "    elif video.ndim == 5 and video.shape[1] != 3:\n",
    "        video = video.permute(0, 2, 1, 3, 4)\n",
    "\n",
    "    # Resize to model's expected HxW\n",
    "    video = F.interpolate(video.reshape(-1, 3, video.shape[-2], video.shape[-1]),\n",
    "                          size=(h, w), mode=\"bilinear\", align_corners=False)\n",
    "    video = video.view(1, 3, t, h, w).to(device)\n",
    "    return video\n",
    "\n",
    "\n",
    "def evaluate_untrained(model, dataloader, max_batches=2):\n",
    "    if isinstance(model, tuple):\n",
    "        model, _ = model\n",
    "    model.eval()\n",
    "\n",
    "    preds, labels = [], []\n",
    "    label_map, idx = {}, 0\n",
    "\n",
    "    with torch.no_grad():\n",
    "        for i, (clips, targets) in enumerate(dataloader):\n",
    "            if i >= max_batches:\n",
    "                break\n",
    "            if isinstance(clips, str):\n",
    "                try:\n",
    "                    v, _, _ = read_video(clips, pts_unit=\"sec\")\n",
    "                    v = v.permute(0, 3, 1, 2).float() / 255.0\n",
    "                    clips = safe_preprocess(v, model, device)\n",
    "                except Exception as e:\n",
    "                    print(f\"[WARN] Skipping {clips}: {e}\")\n",
    "                    continue\n",
    "\n",
    "            if isinstance(targets, (list, tuple)):\n",
    "                targets = targets[0]\n",
    "            if isinstance(targets, str):\n",
    "                if targets not in label_map:\n",
    "                    label_map[targets] = idx\n",
    "                    idx += 1\n",
    "                targets = label_map[targets]\n",
    "            targets = torch.tensor([targets], dtype=torch.long, device=device)\n",
    "\n",
    "            print(f\"[DEBUG] Input to model: {tuple(clips.shape)}\")\n",
    "            try:\n",
    "                outputs = model(clips)\n",
    "                pred = torch.argmax(outputs, dim=1)\n",
    "                preds.extend(pred.cpu().numpy())\n",
    "                labels.extend(targets.cpu().numpy())\n",
    "            except Exception as e:\n",
    "                print(f\"[ERROR] Model forward failed: {e}\")\n",
    "                continue\n",
    "\n",
    "    acc = (torch.tensor(preds) == torch.tensor(labels)).float().mean().item() * 100.0 if preds else 0.0\n",
    "    print(f\"[INFO] Encoded {len(label_map)} labels | Samples processed: {len(preds)}\")\n",
    "    return acc, preds, labels\n",
    "\n",
    "\n",
    "# --- Run in lowest configuration ---\n",
    "mvit_acc, mvit_preds, mvit_labels = evaluate_untrained(mvit_model, val_loader)\n",
    "vit_acc, vit_preds, vit_labels = evaluate_untrained(vit_model, val_loader)\n",
    "\n",
    "print(\"\\n[RESULTS]\")\n",
    "print(f\" - MViT Accuracy (Untrained): {mvit_acc:.2f}%\")\n",
    "print(f\" - ViT  Accuracy (Untrained): {vit_acc:.2f}%\")\n"
   ]
  },
  {
   "cell_type": "code",
   "execution_count": null,
   "id": "8ea37bcf",
   "metadata": {},
   "outputs": [
    {
     "name": "stderr",
     "output_type": "stream",
     "text": [
      "/tmp/ipykernel_139564/1044366736.py:10: UserWarning: No artists with labels found to put in legend.  Note that artists whose label start with an underscore are ignored when legend() is called with no argument.\n",
      "  axes[1].legend()\n"
     ]
    },
    {
     "data": {
      "image/png": "[encoded data removed]",
      "text/plain": [
       "<Figure size 1000x400 with 2 Axes>"
      ]
     },
     "metadata": {},
     "output_type": "display_data"
    }
   ],
   "source": [
    "fig, axes = plt.subplots(1, 2, figsize=(10, 4))\n",
    "\n",
    "sns.barplot(x=[\"MViT\", \"ViT\"], y=[mvit_acc, vit_acc], ax=axes[0])\n",
    "axes[0].set_title(\"Untrained Model Accuracy\")\n",
    "axes[0].set_ylabel(\"Accuracy (%)\")\n",
    "\n",
    "sns.histplot(mvit_preds, color=\"blue\", label=\"MViT\", kde=False, ax=axes[1])\n",
    "sns.histplot(vit_preds, color=\"orange\", label=\"ViT\", kde=False, ax=axes[1])\n",
    "axes[1].set_title(\"Prediction Distribution (first batches)\")\n",
    "axes[1].legend()\n",
    "\n",
    "plt.tight_layout()\n",
    "plt.show()\n"
   ]
  }
 ],
 "metadata": {
  "kernelspec": {
   "display_name": "env",
   "language": "python",
   "name": "python3"
  },
  "language_info": {
   "codemirror_mode": {
    "name": "ipython",
    "version": 3
   },
   "file_extension": ".py",
   "mimetype": "text/x-python",
   "name": "python",
   "nbconvert_exporter": "python",
   "pygments_lexer": "ipython3",
   "version": "3.12.3"
  }
 },
 "nbformat": 4,
 "nbformat_minor": 5
}
