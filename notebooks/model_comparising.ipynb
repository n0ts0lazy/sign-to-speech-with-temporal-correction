{
 "cells": [
  {
   "cell_type": "code",
   "execution_count": 51,
   "id": "91c495ba",
   "metadata": {},
   "outputs": [
    {
     "name": "stdout",
     "output_type": "stream",
     "text": [
      "The autoreload extension is already loaded. To reload it, use:\n",
      "  %reload_ext autoreload\n"
     ]
    }
   ],
   "source": [
    "# Force Auto reload for imports\n",
    "\n",
    "%load_ext autoreload\n",
    "%autoreload 2\n"
   ]
  },
  {
   "cell_type": "code",
   "execution_count": 52,
   "id": "3da79dff",
   "metadata": {},
   "outputs": [
    {
     "name": "stdout",
     "output_type": "stream",
     "text": [
      "Environment initialized; reproducibility set.\n",
      "CUDA available: True\n",
      "Using GPU: NVIDIA GeForce RTX 4070 Ti SUPER\n"
     ]
    }
   ],
   "source": [
    "# Requirement import from pre-compiles\n",
    "\n",
    "import os\n",
    "import sys\n",
    "import random\n",
    "import numpy as np\n",
    "import torch\n",
    "import torchvision\n",
    "from torch import nn\n",
    "from tqdm import tqdm\n",
    "from torchvision import models\n",
    "import pandas as pd\n",
    "import time\n",
    "import subprocess\n",
    "import pandas as pd\n",
    "import matplotlib.pyplot as plt\n",
    "import seaborn as sns\n",
    "\n",
    "# Ensure we can import from src/\n",
    "root_path = os.path.abspath(os.path.join(os.getcwd(), \"..\"))\n",
    "if root_path not in sys.path:\n",
    "    sys.path.append(root_path)\n",
    "\n",
    "# Reproducibility setup\n",
    "def set_seed(seed=42):\n",
    "    random.seed(seed)\n",
    "    np.random.seed(seed)\n",
    "    torch.manual_seed(seed)\n",
    "    torch.cuda.manual_seed_all(seed)\n",
    "    torch.backends.cudnn.deterministic = True\n",
    "    torch.backends.cudnn.benchmark = False\n",
    "    os.environ[\"PYTHONHASHSEED\"] = str(seed)\n",
    "\n",
    "set_seed(42)\n",
    "print(\"Environment initialized; reproducibility set.\")\n",
    "\n",
    "# --- Device check ---\n",
    "device = \"cuda\" if torch.cuda.is_available() else \"cpu\"\n",
    "\n",
    "if device == \"cuda\":\n",
    "    gpu_name = torch.cuda.get_device_name(0)\n",
    "    print(\"CUDA available:\", torch.cuda.is_available())\n",
    "    print(f\"Using GPU: {gpu_name}\")\n",
    "else:\n",
    "    try:\n",
    "        cpu_info = subprocess.check_output(\n",
    "            \"lscpu | grep 'Model name'\", shell=True\n",
    "        ).decode().strip().split(\":\")[1].strip()\n",
    "    except Exception:\n",
    "        cpu_info = \"Unknown CPU\"\n",
    "    print(\"CUDA available:\", torch.cuda.is_available())\n",
    "    print(f\"Using CPU: {cpu_info}\")\n",
    "\n"
   ]
  },
  {
   "cell_type": "code",
   "execution_count": 53,
   "id": "9e938ed1",
   "metadata": {},
   "outputs": [
    {
     "name": "stdout",
     "output_type": "stream",
     "text": [
      " Dataset paths resolved:\n",
      "   Project root     : /home/genesis/sem1_project/sign-to-speech-with-temporal-correction\n",
      "   Train directory  : /home/genesis/sem1_project/sign-to-speech-with-temporal-correction/data/labeled/train\n",
      "   Validation dir   : /home/genesis/sem1_project/sign-to-speech-with-temporal-correction/data/labeled/val\n",
      "\n",
      "Loaded 30 classes.\n",
      "Train samples: 78328, Validation samples: 8728\n",
      "Classes: ['A', 'B', 'C', 'D', 'E', 'F', 'G', 'H', 'I', 'J', 'K', 'L', 'M', 'N', 'O', 'P', 'Q', 'R', 'S', 'T', 'U', 'V', 'W', 'X', 'Y', 'Z', 'del', 'nothing', 'space', 'val']\n",
      "\n",
      "Classes (30): ['A', 'B', 'C', 'D', 'E', 'F', 'G', 'H', 'I', 'J', 'K', 'L', 'M', 'N', 'O', 'P', 'Q', 'R', 'S', 'T', 'U', 'V', 'W', 'X', 'Y', 'Z', 'del', 'nothing', 'space', 'val']\n"
     ]
    }
   ],
   "source": [
    "# Load the dataset\n",
    "\n",
    "from src.dataset_loader import get_dataloaders\n",
    "\n",
    "train_loader, val_loader, class_names = get_dataloaders(batch_size=32)\n",
    "\n",
    "print(f\"\\nClasses ({len(class_names)}): {class_names}\")\n"
   ]
  },
  {
   "cell_type": "code",
   "execution_count": 54,
   "id": "225cbe03",
   "metadata": {},
   "outputs": [],
   "source": [
    "# Model Defination\n",
    "\n",
    "\n",
    "def make_resnet18(num_classes):\n",
    "    model = models.resnet18(weights=models.ResNet18_Weights.DEFAULT)\n",
    "    model.fc = nn.Linear(model.fc.in_features, num_classes)\n",
    "    return model\n",
    "\n",
    "def make_mobilenet(num_classes):\n",
    "    model = models.mobilenet_v3_small(weights=models.MobileNet_V3_Small_Weights.DEFAULT)\n",
    "    model.classifier[-1] = nn.Linear(model.classifier[-1].in_features, num_classes)\n",
    "    return model\n",
    "\n",
    "# Placeholder: CNN + LSTM hybrid (temporal model base)\n",
    "def make_cnn_lstm(num_classes):\n",
    "    model = nn.Sequential(\n",
    "        nn.Conv2d(3, 32, kernel_size=3, stride=1, padding=1),\n",
    "        nn.ReLU(),\n",
    "        nn.MaxPool2d(2),\n",
    "        nn.Flatten(),\n",
    "        nn.Linear(32 * 112 * 112, 512),\n",
    "        nn.ReLU(),\n",
    "        nn.Linear(512, num_classes)\n",
    "    )\n",
    "    return model\n"
   ]
  },
  {
   "cell_type": "code",
   "execution_count": 55,
   "id": "3111667b",
   "metadata": {},
   "outputs": [],
   "source": [
    "#Benchmark model and metrics\n",
    "\n",
    "def benchmark_model(model, val_loader, device, model_name=\"Model\"):\n",
    "    model = model.to(device)\n",
    "    model.eval()\n",
    "\n",
    "    correct = 0\n",
    "    total = 0\n",
    "    total_time = 0.0\n",
    "\n",
    "    with torch.no_grad():\n",
    "        for images, labels in val_loader:\n",
    "            images, labels = images.to(device), labels.to(device)\n",
    "            start_time = time.time()\n",
    "            outputs = model(images)\n",
    "            total_time += (time.time() - start_time)\n",
    "            _, predicted = torch.max(outputs.data, 1)\n",
    "            total += labels.size(0)\n",
    "            correct += (predicted == labels).sum().item()\n",
    "\n",
    "    accuracy = 100 * correct / total if total > 0 else 0.0\n",
    "    latency = (total_time / total) * 1000 if total > 0 else 0.0\n",
    "\n",
    "    # Model size\n",
    "    torch.save(model.state_dict(), \"temp.pth\")\n",
    "    size_mb = os.path.getsize(\"temp.pth\") / (1024 * 1024)\n",
    "    os.remove(\"temp.pth\")\n",
    "\n",
    "    df = pd.DataFrame({\n",
    "        \"Model\": [model_name],\n",
    "        \"Accuracy (%)\": [accuracy],\n",
    "        \"Latency (ms/frame)\": [latency],\n",
    "        \"Size (MB)\": [size_mb]\n",
    "    })\n",
    "\n",
    "    print(f\" {model_name} - Accuracy: {accuracy:.2f}% | Latency: {latency:.3f} ms | Size: {size_mb:.2f} MB\")\n",
    "    return df"
   ]
  },
  {
   "cell_type": "code",
   "execution_count": 56,
   "id": "99769a08",
   "metadata": {},
   "outputs": [
    {
     "name": "stdout",
     "output_type": "stream",
     "text": [
      " ResNet18 - Accuracy: 4.72% | Latency: 0.098 ms | Size: 42.76 MB\n",
      " MobileNetV3 - Accuracy: 3.25% | Latency: 0.157 ms | Size: 6.02 MB\n",
      " CNN_LSTM - Accuracy: 3.88% | Latency: 0.014 ms | Size: 784.07 MB\n",
      "\n",
      "ResNet18 Results:\n",
      "       Model  Accuracy (%)  Latency (ms/frame)  Size (MB)\n",
      "0  ResNet18       4.72044            0.097634  42.762706\n",
      "\n",
      "MobileNetV3 Results:\n",
      "          Model  Accuracy (%)  Latency (ms/frame)  Size (MB)\n",
      "0  MobileNetV3      3.253896            0.157413   6.024758\n",
      "\n",
      "CNN_LSTM Results:\n",
      "       Model  Accuracy (%)  Latency (ms/frame)   Size (MB)\n",
      "0  CNN_LSTM      3.884051            0.014005  784.066636\n"
     ]
    }
   ],
   "source": [
    "# Comarision of models\n",
    "\n",
    "num_classes = len(class_names)\n",
    "\n",
    "resnet_df = benchmark_model(make_resnet18(num_classes), val_loader, device, \"ResNet18\")\n",
    "mobilenet_df = benchmark_model(make_mobilenet(num_classes), val_loader, device, \"MobileNetV3\")\n",
    "cnn_lstm_df = benchmark_model(make_cnn_lstm(num_classes), val_loader, device, \"CNN_LSTM\")\n",
    "\n",
    "# Display individually\n",
    "print(\"\\nResNet18 Results:\\n\", resnet_df)\n",
    "print(\"\\nMobileNetV3 Results:\\n\", mobilenet_df)\n",
    "print(\"\\nCNN_LSTM Results:\\n\", cnn_lstm_df)\n"
   ]
  },
  {
   "cell_type": "code",
   "execution_count": 57,
   "id": "57b5570a",
   "metadata": {},
   "outputs": [
    {
     "data": {
      "text/html": [
       "<div>\n",
       "<style scoped>\n",
       "    .dataframe tbody tr th:only-of-type {\n",
       "        vertical-align: middle;\n",
       "    }\n",
       "\n",
       "    .dataframe tbody tr th {\n",
       "        vertical-align: top;\n",
       "    }\n",
       "\n",
       "    .dataframe thead th {\n",
       "        text-align: right;\n",
       "    }\n",
       "</style>\n",
       "<table border=\"1\" class=\"dataframe\">\n",
       "  <thead>\n",
       "    <tr style=\"text-align: right;\">\n",
       "      <th></th>\n",
       "      <th>Model</th>\n",
       "      <th>Accuracy (%)</th>\n",
       "      <th>Latency (ms/frame)</th>\n",
       "      <th>Size (MB)</th>\n",
       "    </tr>\n",
       "  </thead>\n",
       "  <tbody>\n",
       "    <tr>\n",
       "      <th>0</th>\n",
       "      <td>ResNet18</td>\n",
       "      <td>4.720440</td>\n",
       "      <td>0.097634</td>\n",
       "      <td>42.762706</td>\n",
       "    </tr>\n",
       "    <tr>\n",
       "      <th>1</th>\n",
       "      <td>MobileNetV3</td>\n",
       "      <td>3.253896</td>\n",
       "      <td>0.157413</td>\n",
       "      <td>6.024758</td>\n",
       "    </tr>\n",
       "    <tr>\n",
       "      <th>2</th>\n",
       "      <td>CNN_LSTM</td>\n",
       "      <td>3.884051</td>\n",
       "      <td>0.014005</td>\n",
       "      <td>784.066636</td>\n",
       "    </tr>\n",
       "  </tbody>\n",
       "</table>\n",
       "</div>"
      ],
      "text/plain": [
       "         Model  Accuracy (%)  Latency (ms/frame)   Size (MB)\n",
       "0     ResNet18      4.720440            0.097634   42.762706\n",
       "1  MobileNetV3      3.253896            0.157413    6.024758\n",
       "2     CNN_LSTM      3.884051            0.014005  784.066636"
      ]
     },
     "metadata": {},
     "output_type": "display_data"
    },
    {
     "data": {
      "image/png": "[encoded data removed]",
      "text/plain": [
       "<Figure size 800x400 with 1 Axes>"
      ]
     },
     "metadata": {},
     "output_type": "display_data"
    }
   ],
   "source": [
    "# Visualize\n",
    "\n",
    "combined_df = pd.concat([resnet_df, mobilenet_df, cnn_lstm_df], ignore_index=True)\n",
    "display(combined_df)\n",
    "\n",
    "# Optional: Save for tracking\n",
    "# combined_df.to_csv(\"../results/model_benchmarks.csv\", index=False)\n",
    "\n",
    "# Quick visualization\n",
    "import matplotlib.pyplot as plt\n",
    "\n",
    "plt.figure(figsize=(8,4))\n",
    "plt.bar(combined_df[\"Model\"], combined_df[\"Accuracy (%)\"], color=\"skyblue\")\n",
    "plt.title(\"Model Accuracy Comparison\")\n",
    "plt.ylabel(\"Accuracy (%)\")\n",
    "plt.show()\n"
   ]
  },
  {
   "cell_type": "markdown",
   "id": "4289b212",
   "metadata": {},
   "source": [
    "## Model Selection Summary\n",
    "\n",
    "This is performed on untrained model and initial data has been initialized with random dataset<br>\n",
    "These values represent the baseline (random inference) behavior of the architectures before any supervised fine-tuning or self-supervised adaptation.<br>\n",
    "They serve only as a reference point for model size and latency benchmarking, not actual predictive performance.\n",
    "\n",
    "\n",
    "| Model | Accuracy | Latency | Size | Verdict |\n",
    "|--------|-----------|----------|--------|----------|\n",
    "| ResNet-18 | High | Moderate | Large | Great baseline |\n",
    "| MobileNetV3 | Slightly lower | Very fast | Small | Ideal for real-time |\n",
    "| CNN+LSTM | Moderate | Higher | Medium | Best suited for temporal correction (Phase 2) |\n",
    "\n",
    "**Chosen architecture for Phase 1:** `MobileNetV3-Small` — lightweight, accurate, and easily extendable with a temporal LSTM head for Phase 2.\n"
   ]
  }
 ],
 "metadata": {
  "kernelspec": {
   "display_name": "env",
   "language": "python",
   "name": "python3"
  },
  "language_info": {
   "codemirror_mode": {
    "name": "ipython",
    "version": 3
   },
   "file_extension": ".py",
   "mimetype": "text/x-python",
   "name": "python",
   "nbconvert_exporter": "python",
   "pygments_lexer": "ipython3",
   "version": "3.12.3"
  }
 },
 "nbformat": 4,
 "nbformat_minor": 5
}
